{
  "nbformat": 4,
  "nbformat_minor": 0,
  "metadata": {
    "colab": {
      "provenance": [],
      "include_colab_link": true
    },
    "kernelspec": {
      "name": "python3",
      "display_name": "Python 3"
    },
    "language_info": {
      "name": "python"
    }
  },
  "cells": [
    {
      "cell_type": "markdown",
      "metadata": {
        "id": "view-in-github",
        "colab_type": "text"
      },
      "source": [
        "<a href=\"https://colab.research.google.com/github/aledroza/AluraOne/blob/main/Copia_de_AluraStoreLatam.ipynb\" target=\"_parent\"><img src=\"https://colab.research.google.com/assets/colab-badge.svg\" alt=\"Open In Colab\"/></a>"
      ]
    },
    {
      "cell_type": "markdown",
      "source": [
        "### Importación de datos\n",
        "\n"
      ],
      "metadata": {
        "id": "RhEdWd9YUR6H"
      }
    },
    {
      "cell_type": "code",
      "execution_count": null,
      "metadata": {
        "colab": {
          "base_uri": "https://localhost:8080/",
          "height": 380
        },
        "id": "T3EvaeQ_INIL",
        "outputId": "f99e35e1-9300-4aa1-9df4-b1356cc0b412"
      },
      "outputs": [
        {
          "output_type": "execute_result",
          "data": {
            "text/plain": [
              "            Producto Categoría del Producto    Precio  Costo de envío  \\\n",
              "0  Asistente virtual           Electrónicos  164300.0          6900.0   \n",
              "1    Mesa de comedor                Muebles  192300.0          8400.0   \n",
              "2      Juego de mesa               Juguetes  209600.0         15900.0   \n",
              "3         Microondas      Electrodomésticos  757500.0         41000.0   \n",
              "4   Silla de oficina                Muebles  335200.0         20200.0   \n",
              "\n",
              "  Fecha de Compra         Vendedor Lugar de Compra  Calificación  \\\n",
              "0      16/01/2021      Pedro Gomez          Bogotá             4   \n",
              "1      18/05/2022  Beatriz Morales        Medellín             1   \n",
              "2      15/03/2021   Juan Fernandez       Cartagena             1   \n",
              "3      03/05/2022   Juan Fernandez            Cali             4   \n",
              "4      07/11/2020    Maria Alfonso        Medellín             5   \n",
              "\n",
              "       Método de pago  Cantidad de cuotas       lat       lon  \n",
              "0  Tarjeta de crédito                   8   4.60971 -74.08175  \n",
              "1  Tarjeta de crédito                   4   6.25184 -75.56359  \n",
              "2  Tarjeta de crédito                   1  10.39972 -75.51444  \n",
              "3               Nequi                   1   3.43722 -76.52250  \n",
              "4               Nequi                   1   6.25184 -75.56359  "
            ],
            "text/html": [
              "\n",
              "  <div id=\"df-6adf88ec-bc6f-430f-b4e3-83a1642693fa\" class=\"colab-df-container\">\n",
              "    <div>\n",
              "<style scoped>\n",
              "    .dataframe tbody tr th:only-of-type {\n",
              "        vertical-align: middle;\n",
              "    }\n",
              "\n",
              "    .dataframe tbody tr th {\n",
              "        vertical-align: top;\n",
              "    }\n",
              "\n",
              "    .dataframe thead th {\n",
              "        text-align: right;\n",
              "    }\n",
              "</style>\n",
              "<table border=\"1\" class=\"dataframe\">\n",
              "  <thead>\n",
              "    <tr style=\"text-align: right;\">\n",
              "      <th></th>\n",
              "      <th>Producto</th>\n",
              "      <th>Categoría del Producto</th>\n",
              "      <th>Precio</th>\n",
              "      <th>Costo de envío</th>\n",
              "      <th>Fecha de Compra</th>\n",
              "      <th>Vendedor</th>\n",
              "      <th>Lugar de Compra</th>\n",
              "      <th>Calificación</th>\n",
              "      <th>Método de pago</th>\n",
              "      <th>Cantidad de cuotas</th>\n",
              "      <th>lat</th>\n",
              "      <th>lon</th>\n",
              "    </tr>\n",
              "  </thead>\n",
              "  <tbody>\n",
              "    <tr>\n",
              "      <th>0</th>\n",
              "      <td>Asistente virtual</td>\n",
              "      <td>Electrónicos</td>\n",
              "      <td>164300.0</td>\n",
              "      <td>6900.0</td>\n",
              "      <td>16/01/2021</td>\n",
              "      <td>Pedro Gomez</td>\n",
              "      <td>Bogotá</td>\n",
              "      <td>4</td>\n",
              "      <td>Tarjeta de crédito</td>\n",
              "      <td>8</td>\n",
              "      <td>4.60971</td>\n",
              "      <td>-74.08175</td>\n",
              "    </tr>\n",
              "    <tr>\n",
              "      <th>1</th>\n",
              "      <td>Mesa de comedor</td>\n",
              "      <td>Muebles</td>\n",
              "      <td>192300.0</td>\n",
              "      <td>8400.0</td>\n",
              "      <td>18/05/2022</td>\n",
              "      <td>Beatriz Morales</td>\n",
              "      <td>Medellín</td>\n",
              "      <td>1</td>\n",
              "      <td>Tarjeta de crédito</td>\n",
              "      <td>4</td>\n",
              "      <td>6.25184</td>\n",
              "      <td>-75.56359</td>\n",
              "    </tr>\n",
              "    <tr>\n",
              "      <th>2</th>\n",
              "      <td>Juego de mesa</td>\n",
              "      <td>Juguetes</td>\n",
              "      <td>209600.0</td>\n",
              "      <td>15900.0</td>\n",
              "      <td>15/03/2021</td>\n",
              "      <td>Juan Fernandez</td>\n",
              "      <td>Cartagena</td>\n",
              "      <td>1</td>\n",
              "      <td>Tarjeta de crédito</td>\n",
              "      <td>1</td>\n",
              "      <td>10.39972</td>\n",
              "      <td>-75.51444</td>\n",
              "    </tr>\n",
              "    <tr>\n",
              "      <th>3</th>\n",
              "      <td>Microondas</td>\n",
              "      <td>Electrodomésticos</td>\n",
              "      <td>757500.0</td>\n",
              "      <td>41000.0</td>\n",
              "      <td>03/05/2022</td>\n",
              "      <td>Juan Fernandez</td>\n",
              "      <td>Cali</td>\n",
              "      <td>4</td>\n",
              "      <td>Nequi</td>\n",
              "      <td>1</td>\n",
              "      <td>3.43722</td>\n",
              "      <td>-76.52250</td>\n",
              "    </tr>\n",
              "    <tr>\n",
              "      <th>4</th>\n",
              "      <td>Silla de oficina</td>\n",
              "      <td>Muebles</td>\n",
              "      <td>335200.0</td>\n",
              "      <td>20200.0</td>\n",
              "      <td>07/11/2020</td>\n",
              "      <td>Maria Alfonso</td>\n",
              "      <td>Medellín</td>\n",
              "      <td>5</td>\n",
              "      <td>Nequi</td>\n",
              "      <td>1</td>\n",
              "      <td>6.25184</td>\n",
              "      <td>-75.56359</td>\n",
              "    </tr>\n",
              "  </tbody>\n",
              "</table>\n",
              "</div>\n",
              "    <div class=\"colab-df-buttons\">\n",
              "\n",
              "  <div class=\"colab-df-container\">\n",
              "    <button class=\"colab-df-convert\" onclick=\"convertToInteractive('df-6adf88ec-bc6f-430f-b4e3-83a1642693fa')\"\n",
              "            title=\"Convert this dataframe to an interactive table.\"\n",
              "            style=\"display:none;\">\n",
              "\n",
              "  <svg xmlns=\"http://www.w3.org/2000/svg\" height=\"24px\" viewBox=\"0 -960 960 960\">\n",
              "    <path d=\"M120-120v-720h720v720H120Zm60-500h600v-160H180v160Zm220 220h160v-160H400v160Zm0 220h160v-160H400v160ZM180-400h160v-160H180v160Zm440 0h160v-160H620v160ZM180-180h160v-160H180v160Zm440 0h160v-160H620v160Z\"/>\n",
              "  </svg>\n",
              "    </button>\n",
              "\n",
              "  <style>\n",
              "    .colab-df-container {\n",
              "      display:flex;\n",
              "      gap: 12px;\n",
              "    }\n",
              "\n",
              "    .colab-df-convert {\n",
              "      background-color: #E8F0FE;\n",
              "      border: none;\n",
              "      border-radius: 50%;\n",
              "      cursor: pointer;\n",
              "      display: none;\n",
              "      fill: #1967D2;\n",
              "      height: 32px;\n",
              "      padding: 0 0 0 0;\n",
              "      width: 32px;\n",
              "    }\n",
              "\n",
              "    .colab-df-convert:hover {\n",
              "      background-color: #E2EBFA;\n",
              "      box-shadow: 0px 1px 2px rgba(60, 64, 67, 0.3), 0px 1px 3px 1px rgba(60, 64, 67, 0.15);\n",
              "      fill: #174EA6;\n",
              "    }\n",
              "\n",
              "    .colab-df-buttons div {\n",
              "      margin-bottom: 4px;\n",
              "    }\n",
              "\n",
              "    [theme=dark] .colab-df-convert {\n",
              "      background-color: #3B4455;\n",
              "      fill: #D2E3FC;\n",
              "    }\n",
              "\n",
              "    [theme=dark] .colab-df-convert:hover {\n",
              "      background-color: #434B5C;\n",
              "      box-shadow: 0px 1px 3px 1px rgba(0, 0, 0, 0.15);\n",
              "      filter: drop-shadow(0px 1px 2px rgba(0, 0, 0, 0.3));\n",
              "      fill: #FFFFFF;\n",
              "    }\n",
              "  </style>\n",
              "\n",
              "    <script>\n",
              "      const buttonEl =\n",
              "        document.querySelector('#df-6adf88ec-bc6f-430f-b4e3-83a1642693fa button.colab-df-convert');\n",
              "      buttonEl.style.display =\n",
              "        google.colab.kernel.accessAllowed ? 'block' : 'none';\n",
              "\n",
              "      async function convertToInteractive(key) {\n",
              "        const element = document.querySelector('#df-6adf88ec-bc6f-430f-b4e3-83a1642693fa');\n",
              "        const dataTable =\n",
              "          await google.colab.kernel.invokeFunction('convertToInteractive',\n",
              "                                                    [key], {});\n",
              "        if (!dataTable) return;\n",
              "\n",
              "        const docLinkHtml = 'Like what you see? Visit the ' +\n",
              "          '<a target=\"_blank\" href=https://colab.research.google.com/notebooks/data_table.ipynb>data table notebook</a>'\n",
              "          + ' to learn more about interactive tables.';\n",
              "        element.innerHTML = '';\n",
              "        dataTable['output_type'] = 'display_data';\n",
              "        await google.colab.output.renderOutput(dataTable, element);\n",
              "        const docLink = document.createElement('div');\n",
              "        docLink.innerHTML = docLinkHtml;\n",
              "        element.appendChild(docLink);\n",
              "      }\n",
              "    </script>\n",
              "  </div>\n",
              "\n",
              "\n",
              "    <div id=\"df-1b869ae2-ce12-4fa8-b1d9-a8bd0c038892\">\n",
              "      <button class=\"colab-df-quickchart\" onclick=\"quickchart('df-1b869ae2-ce12-4fa8-b1d9-a8bd0c038892')\"\n",
              "                title=\"Suggest charts\"\n",
              "                style=\"display:none;\">\n",
              "\n",
              "<svg xmlns=\"http://www.w3.org/2000/svg\" height=\"24px\"viewBox=\"0 0 24 24\"\n",
              "     width=\"24px\">\n",
              "    <g>\n",
              "        <path d=\"M19 3H5c-1.1 0-2 .9-2 2v14c0 1.1.9 2 2 2h14c1.1 0 2-.9 2-2V5c0-1.1-.9-2-2-2zM9 17H7v-7h2v7zm4 0h-2V7h2v10zm4 0h-2v-4h2v4z\"/>\n",
              "    </g>\n",
              "</svg>\n",
              "      </button>\n",
              "\n",
              "<style>\n",
              "  .colab-df-quickchart {\n",
              "      --bg-color: #E8F0FE;\n",
              "      --fill-color: #1967D2;\n",
              "      --hover-bg-color: #E2EBFA;\n",
              "      --hover-fill-color: #174EA6;\n",
              "      --disabled-fill-color: #AAA;\n",
              "      --disabled-bg-color: #DDD;\n",
              "  }\n",
              "\n",
              "  [theme=dark] .colab-df-quickchart {\n",
              "      --bg-color: #3B4455;\n",
              "      --fill-color: #D2E3FC;\n",
              "      --hover-bg-color: #434B5C;\n",
              "      --hover-fill-color: #FFFFFF;\n",
              "      --disabled-bg-color: #3B4455;\n",
              "      --disabled-fill-color: #666;\n",
              "  }\n",
              "\n",
              "  .colab-df-quickchart {\n",
              "    background-color: var(--bg-color);\n",
              "    border: none;\n",
              "    border-radius: 50%;\n",
              "    cursor: pointer;\n",
              "    display: none;\n",
              "    fill: var(--fill-color);\n",
              "    height: 32px;\n",
              "    padding: 0;\n",
              "    width: 32px;\n",
              "  }\n",
              "\n",
              "  .colab-df-quickchart:hover {\n",
              "    background-color: var(--hover-bg-color);\n",
              "    box-shadow: 0 1px 2px rgba(60, 64, 67, 0.3), 0 1px 3px 1px rgba(60, 64, 67, 0.15);\n",
              "    fill: var(--button-hover-fill-color);\n",
              "  }\n",
              "\n",
              "  .colab-df-quickchart-complete:disabled,\n",
              "  .colab-df-quickchart-complete:disabled:hover {\n",
              "    background-color: var(--disabled-bg-color);\n",
              "    fill: var(--disabled-fill-color);\n",
              "    box-shadow: none;\n",
              "  }\n",
              "\n",
              "  .colab-df-spinner {\n",
              "    border: 2px solid var(--fill-color);\n",
              "    border-color: transparent;\n",
              "    border-bottom-color: var(--fill-color);\n",
              "    animation:\n",
              "      spin 1s steps(1) infinite;\n",
              "  }\n",
              "\n",
              "  @keyframes spin {\n",
              "    0% {\n",
              "      border-color: transparent;\n",
              "      border-bottom-color: var(--fill-color);\n",
              "      border-left-color: var(--fill-color);\n",
              "    }\n",
              "    20% {\n",
              "      border-color: transparent;\n",
              "      border-left-color: var(--fill-color);\n",
              "      border-top-color: var(--fill-color);\n",
              "    }\n",
              "    30% {\n",
              "      border-color: transparent;\n",
              "      border-left-color: var(--fill-color);\n",
              "      border-top-color: var(--fill-color);\n",
              "      border-right-color: var(--fill-color);\n",
              "    }\n",
              "    40% {\n",
              "      border-color: transparent;\n",
              "      border-right-color: var(--fill-color);\n",
              "      border-top-color: var(--fill-color);\n",
              "    }\n",
              "    60% {\n",
              "      border-color: transparent;\n",
              "      border-right-color: var(--fill-color);\n",
              "    }\n",
              "    80% {\n",
              "      border-color: transparent;\n",
              "      border-right-color: var(--fill-color);\n",
              "      border-bottom-color: var(--fill-color);\n",
              "    }\n",
              "    90% {\n",
              "      border-color: transparent;\n",
              "      border-bottom-color: var(--fill-color);\n",
              "    }\n",
              "  }\n",
              "</style>\n",
              "\n",
              "      <script>\n",
              "        async function quickchart(key) {\n",
              "          const quickchartButtonEl =\n",
              "            document.querySelector('#' + key + ' button');\n",
              "          quickchartButtonEl.disabled = true;  // To prevent multiple clicks.\n",
              "          quickchartButtonEl.classList.add('colab-df-spinner');\n",
              "          try {\n",
              "            const charts = await google.colab.kernel.invokeFunction(\n",
              "                'suggestCharts', [key], {});\n",
              "          } catch (error) {\n",
              "            console.error('Error during call to suggestCharts:', error);\n",
              "          }\n",
              "          quickchartButtonEl.classList.remove('colab-df-spinner');\n",
              "          quickchartButtonEl.classList.add('colab-df-quickchart-complete');\n",
              "        }\n",
              "        (() => {\n",
              "          let quickchartButtonEl =\n",
              "            document.querySelector('#df-1b869ae2-ce12-4fa8-b1d9-a8bd0c038892 button');\n",
              "          quickchartButtonEl.style.display =\n",
              "            google.colab.kernel.accessAllowed ? 'block' : 'none';\n",
              "        })();\n",
              "      </script>\n",
              "    </div>\n",
              "\n",
              "    </div>\n",
              "  </div>\n"
            ],
            "application/vnd.google.colaboratory.intrinsic+json": {
              "type": "dataframe",
              "summary": "{\n  \"name\": \"#tienda4\",\n  \"rows\": 5,\n  \"fields\": [\n    {\n      \"column\": \"Producto\",\n      \"properties\": {\n        \"dtype\": \"string\",\n        \"num_unique_values\": 5,\n        \"samples\": [\n          \"Mesa de comedor\",\n          \"Silla de oficina\",\n          \"Juego de mesa\"\n        ],\n        \"semantic_type\": \"\",\n        \"description\": \"\"\n      }\n    },\n    {\n      \"column\": \"Categor\\u00eda del Producto\",\n      \"properties\": {\n        \"dtype\": \"string\",\n        \"num_unique_values\": 4,\n        \"samples\": [\n          \"Muebles\",\n          \"Electrodom\\u00e9sticos\",\n          \"Electr\\u00f3nicos\"\n        ],\n        \"semantic_type\": \"\",\n        \"description\": \"\"\n      }\n    },\n    {\n      \"column\": \"Precio\",\n      \"properties\": {\n        \"dtype\": \"number\",\n        \"std\": 246820.47524466037,\n        \"min\": 164300.0,\n        \"max\": 757500.0,\n        \"num_unique_values\": 5,\n        \"samples\": [\n          192300.0,\n          335200.0,\n          209600.0\n        ],\n        \"semantic_type\": \"\",\n        \"description\": \"\"\n      }\n    },\n    {\n      \"column\": \"Costo de env\\u00edo\",\n      \"properties\": {\n        \"dtype\": \"number\",\n        \"std\": 13715.575088198088,\n        \"min\": 6900.0,\n        \"max\": 41000.0,\n        \"num_unique_values\": 5,\n        \"samples\": [\n          8400.0,\n          20200.0,\n          15900.0\n        ],\n        \"semantic_type\": \"\",\n        \"description\": \"\"\n      }\n    },\n    {\n      \"column\": \"Fecha de Compra\",\n      \"properties\": {\n        \"dtype\": \"object\",\n        \"num_unique_values\": 5,\n        \"samples\": [\n          \"18/05/2022\",\n          \"07/11/2020\",\n          \"15/03/2021\"\n        ],\n        \"semantic_type\": \"\",\n        \"description\": \"\"\n      }\n    },\n    {\n      \"column\": \"Vendedor\",\n      \"properties\": {\n        \"dtype\": \"string\",\n        \"num_unique_values\": 4,\n        \"samples\": [\n          \"Beatriz Morales\",\n          \"Maria Alfonso\",\n          \"Pedro Gomez\"\n        ],\n        \"semantic_type\": \"\",\n        \"description\": \"\"\n      }\n    },\n    {\n      \"column\": \"Lugar de Compra\",\n      \"properties\": {\n        \"dtype\": \"string\",\n        \"num_unique_values\": 4,\n        \"samples\": [\n          \"Medell\\u00edn\",\n          \"Cali\",\n          \"Bogot\\u00e1\"\n        ],\n        \"semantic_type\": \"\",\n        \"description\": \"\"\n      }\n    },\n    {\n      \"column\": \"Calificaci\\u00f3n\",\n      \"properties\": {\n        \"dtype\": \"number\",\n        \"std\": 1,\n        \"min\": 1,\n        \"max\": 5,\n        \"num_unique_values\": 3,\n        \"samples\": [\n          4,\n          1,\n          5\n        ],\n        \"semantic_type\": \"\",\n        \"description\": \"\"\n      }\n    },\n    {\n      \"column\": \"M\\u00e9todo de pago\",\n      \"properties\": {\n        \"dtype\": \"category\",\n        \"num_unique_values\": 2,\n        \"samples\": [\n          \"Nequi\",\n          \"Tarjeta de cr\\u00e9dito\"\n        ],\n        \"semantic_type\": \"\",\n        \"description\": \"\"\n      }\n    },\n    {\n      \"column\": \"Cantidad de cuotas\",\n      \"properties\": {\n        \"dtype\": \"number\",\n        \"std\": 3,\n        \"min\": 1,\n        \"max\": 8,\n        \"num_unique_values\": 3,\n        \"samples\": [\n          8,\n          4\n        ],\n        \"semantic_type\": \"\",\n        \"description\": \"\"\n      }\n    },\n    {\n      \"column\": \"lat\",\n      \"properties\": {\n        \"dtype\": \"number\",\n        \"std\": 2.6364988640392015,\n        \"min\": 3.43722,\n        \"max\": 10.39972,\n        \"num_unique_values\": 4,\n        \"samples\": [\n          6.25184,\n          3.43722\n        ],\n        \"semantic_type\": \"\",\n        \"description\": \"\"\n      }\n    },\n    {\n      \"column\": \"lon\",\n      \"properties\": {\n        \"dtype\": \"number\",\n        \"std\": 0.8735443307182511,\n        \"min\": -76.5225,\n        \"max\": -74.08175,\n        \"num_unique_values\": 4,\n        \"samples\": [\n          -75.56359,\n          -76.5225\n        ],\n        \"semantic_type\": \"\",\n        \"description\": \"\"\n      }\n    }\n  ]\n}"
            }
          },
          "metadata": {},
          "execution_count": 11
        }
      ],
      "source": [
        "import pandas as pd\n",
        "\n",
        "url = \"https://raw.githubusercontent.com/alura-es-cursos/challenge1-data-science-latam/refs/heads/main/base-de-datos-challenge1-latam/tienda_1%20.csv\"\n",
        "url2 = \"https://raw.githubusercontent.com/alura-es-cursos/challenge1-data-science-latam/refs/heads/main/base-de-datos-challenge1-latam/tienda_2.csv\"\n",
        "url3 = \"https://raw.githubusercontent.com/alura-es-cursos/challenge1-data-science-latam/refs/heads/main/base-de-datos-challenge1-latam/tienda_3.csv\"\n",
        "url4 = \"https://raw.githubusercontent.com/alura-es-cursos/challenge1-data-science-latam/refs/heads/main/base-de-datos-challenge1-latam/tienda_4.csv\"\n",
        "\n",
        "tienda = pd.read_csv(url)\n",
        "tienda2 = pd.read_csv(url2)\n",
        "tienda3 = pd.read_csv(url3)\n",
        "tienda4 = pd.read_csv(url4)\n",
        "\n",
        "tienda.head()\n",
        "#tienda2.head()\n",
        "#tienda3.head()\n",
        "#tienda4.head()"
      ]
    },
    {
      "cell_type": "code",
      "source": [],
      "metadata": {
        "id": "cdR0zbF47T8N"
      },
      "execution_count": null,
      "outputs": []
    },
    {
      "cell_type": "markdown",
      "source": [],
      "metadata": {
        "id": "YqdJkU5x7TZe"
      }
    },
    {
      "cell_type": "markdown",
      "source": [
        "Calculando el promedio de Clasificacion de los clientes de las 4 tiendas."
      ],
      "metadata": {
        "id": "JHbB64qPBZg_"
      }
    },
    {
      "cell_type": "code",
      "source": [
        "# prompt: crear un codigo que analice cual es el promedio de clasificacion de los clientes en las 4 tiendas\n",
        "import pandas as pd\n",
        "# definiendo tiendas\n",
        "url = \"https://raw.githubusercontent.com/alura-es-cursos/challenge1-data-science-latam/refs/heads/main/base-de-datos-challenge1-latam/tienda_1%20.csv\"\n",
        "url2 = \"https://raw.githubusercontent.com/alura-es-cursos/challenge1-data-science-latam/refs/heads/main/base-de-datos-challenge1-latam/tienda_2.csv\"\n",
        "url3 = \"https://raw.githubusercontent.com/alura-es-cursos/challenge1-data-science-latam/refs/heads/main/base-de-datos-challenge1-latam/tienda_3.csv\"\n",
        "url4 = \"https://raw.githubusercontent.com/alura-es-cursos/challenge1-data-science-latam/refs/heads/main/base-de-datos-challenge1-latam/tienda_4.csv\"\n",
        "\n",
        "tienda = pd.read_csv(url)\n",
        "tienda2 = pd.read_csv(url2)\n",
        "tienda3 = pd.read_csv(url3)\n",
        "tienda4 = pd.read_csv(url4)\n",
        "\n",
        "tienda.head()\n",
        "# Concatenar los dataframes de las tiendas\n",
        "tiendas_df = pd.concat([tienda, tienda2, tienda3, tienda4])\n",
        "\n",
        "# Imprimir los nombres de las columnas para verificar el nombre correcto de la columna de clasificación\n",
        "# print(\"Columnas disponibles en el DataFrame concatenado:\")\n",
        "# print(tiendas_df.columns)\n",
        "\n",
        "# Reemplaza 'NombreDeLaColumnaCorrecto' con el nombre exacto de la columna de clasificación que encuentres en el output anterior.\n",
        "# Por ejemplo, si la columna se llama 'Rating', cambia 'NombreDeLaColumnaCorrecto' a 'Rating'.\n",
        "# Si la columna se llama 'Calificacion_Cliente', cambia 'NombreDeLaColumnaCorrecto' a 'Calificacion_Cliente'.\n",
        "try:\n",
        "    # Intenta usar el nombre de columna que crees que es el correcto.\n",
        "    # Si el print de columnas te muestra un nombre diferente, úsalo aquí.\n",
        "    promedio_clasificacion = tiendas_df['Calificación'].mean() # Asumiendo que la columna se llama 'Calificación' (sin mayúscula inicial en la base de datos)\n",
        "except KeyError:\n",
        "    # Si 'Calificación' tampoco funciona, puedes probar con otros nombres comunes o referirte al output de tiendas_df.columns\n",
        "    # print(\"La columna 'Calificación' no fue encontrada. Por favor, verifica el nombre correcto de la columna en el output de tiendas_df.columns\")\n",
        "    # Por ahora, puedes intentar con 'clasificacion' si crees que podría ser ese el nombre\n",
        "    try:\n",
        "        promedio_clasificacion = tiendas_df['clasificacion'].mean()\n",
        "    except KeyError:\n",
        "        print(\"No se encontró una columna de clasificación común. Por favor, examine el output de tiendas_df.columns y actualice el código con el nombre correcto.\")\n",
        "        promedio_clasificacion = None # O manejar el error de otra forma\n",
        "\n",
        "if promedio_clasificacion is not None:\n",
        "    print(f\"El promedio de clasificación de los clientes en las 4 tiendas es: {promedio_clasificacion}\")"
      ],
      "metadata": {
        "id": "xykobSftV64I",
        "colab": {
          "base_uri": "https://localhost:8080/"
        },
        "outputId": "893083c7-7572-4f71-c463-42f2fe603702"
      },
      "execution_count": null,
      "outputs": [
        {
          "output_type": "stream",
          "name": "stdout",
          "text": [
            "El promedio de clasificación de los clientes en las 4 tiendas es: 4.014520402755696\n"
          ]
        }
      ]
    },
    {
      "cell_type": "markdown",
      "source": [
        "#1. Análisis de facturación\n",
        "\n"
      ],
      "metadata": {
        "id": "X62IW3KFUIYm"
      }
    },
    {
      "cell_type": "code",
      "source": [
        "# prompt: Generar codigo para analizar la facturacion total de las 4 tiendas\n",
        "# Calcular la facturación total por tienda\n",
        "facturacion_tienda1 = tienda['Precio' ].sum()\n",
        "facturacion_tienda2 = tienda2['Precio'].sum()\n",
        "facturacion_tienda3 = tienda3['Precio'].sum()\n",
        "facturacion_tienda4 = tienda4['Precio'].sum()\n",
        "\n",
        "\n",
        "# Calcular la facturación total de las 4 tiendas combinadas\n",
        "facturacion_total_combinada = tiendas_df['Precio'].sum()\n",
        "\n",
        "\n",
        "print(f\"Facturación total Tienda 1: {facturacion_tienda1}\")\n",
        "print(f\"Facturación total Tienda 2: {facturacion_tienda2}\")\n",
        "print(f\"Facturación total Tienda 3: {facturacion_tienda3}\")\n",
        "print(f\"Facturación total Tienda 4: {facturacion_tienda4}\")\n",
        "print(f\"Facturación total de las 4 tiendas combinadas: {facturacion_total_combinada}\")"
      ],
      "metadata": {
        "id": "KDyr8E71V3m-",
        "colab": {
          "base_uri": "https://localhost:8080/"
        },
        "outputId": "f1f2de31-3603-4844-84fe-11fea495d681"
      },
      "execution_count": null,
      "outputs": [
        {
          "output_type": "stream",
          "name": "stdout",
          "text": [
            "Facturación total Tienda 1: 1150880400.0\n",
            "Facturación total Tienda 2: 1116343500.0\n",
            "Facturación total Tienda 3: 1098019600.0\n",
            "Facturación total Tienda 4: 1038375700.0\n",
            "Facturación total de las 4 tiendas combinadas: 4403619200.0\n"
          ]
        }
      ]
    },
    {
      "cell_type": "code",
      "source": [
        "# prompt: generar codigo para analizar de las 4 tiendas, cual tuvo menor facturacion total\n",
        "\n",
        "# Crear un diccionario para almacenar la facturación por tienda\n",
        "facturacion_por_tienda = {\n",
        "    'Tienda 1': facturacion_tienda1,\n",
        "    'Tienda 2': facturacion_tienda2,\n",
        "    'Tienda 3': facturacion_tienda3,\n",
        "    'Tienda 4': facturacion_tienda4\n",
        "}\n",
        "\n",
        "# Encontrar la tienda con la menor facturación\n",
        "tienda_menor_facturacion = min(facturacion_por_tienda, key=facturacion_por_tienda.get)\n",
        "menor_facturacion = facturacion_por_tienda[tienda_menor_facturacion]\n",
        "\n",
        "print(f\"\\nLa tienda con la menor facturación total es: {tienda_menor_facturacion} con una facturación de {menor_facturacion}\")"
      ],
      "metadata": {
        "colab": {
          "base_uri": "https://localhost:8080/"
        },
        "id": "6fiYSoRJF7Fg",
        "outputId": "10dfa513-7d4a-4a01-dad8-4a9837f715a4"
      },
      "execution_count": null,
      "outputs": [
        {
          "output_type": "stream",
          "name": "stdout",
          "text": [
            "\n",
            "La tienda con la menor facturación total es: Tienda 4 con una facturación de 1038375700.0\n"
          ]
        }
      ]
    },
    {
      "cell_type": "markdown",
      "source": [
        "# 2. Ventas por categoría"
      ],
      "metadata": {
        "id": "2V_vcAPzWZmR"
      }
    },
    {
      "cell_type": "code",
      "source": [],
      "metadata": {
        "id": "A34YupIuYhfF"
      },
      "execution_count": null,
      "outputs": []
    },
    {
      "cell_type": "code",
      "source": [],
      "metadata": {
        "id": "yZR6cOjXYSk1"
      },
      "execution_count": null,
      "outputs": []
    },
    {
      "cell_type": "markdown",
      "source": [
        "# 3. Calificación promedio de la tienda\n"
      ],
      "metadata": {
        "id": "Rq6tU_xSY3jk"
      }
    },
    {
      "cell_type": "code",
      "source": [],
      "metadata": {
        "id": "bh3jjjJwY5MU"
      },
      "execution_count": null,
      "outputs": []
    },
    {
      "cell_type": "code",
      "source": [],
      "metadata": {
        "id": "I0KkjPoTY88F"
      },
      "execution_count": null,
      "outputs": []
    },
    {
      "cell_type": "markdown",
      "source": [
        "# 4. Productos más y menos vendidos"
      ],
      "metadata": {
        "id": "DmNp1KPBZCm-"
      }
    },
    {
      "cell_type": "code",
      "source": [],
      "metadata": {
        "id": "qoyjqijQZHfF"
      },
      "execution_count": null,
      "outputs": []
    },
    {
      "cell_type": "code",
      "source": [],
      "metadata": {
        "id": "0Sw3sd4IZIGW"
      },
      "execution_count": null,
      "outputs": []
    },
    {
      "cell_type": "markdown",
      "source": [
        "# 5. Envío promedio por tienda"
      ],
      "metadata": {
        "id": "Fl0cGi3bZKqU"
      }
    },
    {
      "cell_type": "code",
      "source": [
        "import pandas as pd\n",
        "\n",
        "url = \"https://raw.githubusercontent.com/alura-es-cursos/challenge1-data-science-latam/refs/heads/main/base-de-datos-challenge1-latam/tienda_1%20.csv\"\n",
        "url2 = \"https://raw.githubusercontent.com/alura-es-cursos/challenge1-data-science-latam/refs/heads/main/base-de-datos-challenge1-latam/tienda_2.csv\"\n",
        "url3 = \"https://raw.githubusercontent.com/alura-es-cursos/challenge1-data-science-latam/refs/heads/main/base-de-datos-challenge1-latam/tienda_3.csv\"\n",
        "url4 = \"https://raw.githubusercontent.com/alura-es-cursos/challenge1-data-science-latam/refs/heads/main/base-de-datos-challenge1-latam/tienda_4.csv\"\n",
        "\n",
        "tienda = pd.read_csv(url)\n",
        "tienda2 = pd.read_csv(url2)\n",
        "tienda3 = pd.read_csv(url3)\n",
        "tienda4 = pd.read_csv(url4)\n",
        "\n",
        "tiendas_df = pd.concat([tienda, tienda2, tienda3, tienda4])\n",
        "\n",
        "# Imprimir los nombres de las columnas para verificar el nombre correcto de la columna de costo de envío\n",
        "# print(\"Columnas disponibles en el DataFrame concatenado:\")\n",
        "# print(tiendas_df.columns)\n",
        "\n",
        "# Reemplaza 'NombreDeLaColumnaCorrecto' con el nombre exacto de la columna de costo de envío que encuentres en el output anterior.\n",
        "# Por ejemplo, si la columna se llama 'Rating', cambia 'NombreDeLaColumnaCorrecto' a 'Rating'.\n",
        "# Si la columna se llama 'Calificacion_Cliente', cambia 'NombreDeLaColumnaCorrecto' a 'Calificacion_Cliente'.\n",
        "try:\n",
        "    # Intenta usar el nombre de columna que crees que es el correcto.\n",
        "    # Si el print de columnas te muestra un nombre diferente, úsalo aquí.\n",
        "    promedio_costo_de_envío = tiendas_df['Costo de envío'].mean() # Asumiendo que la columna se llama 'Costo de envío' (sin mayúscula inicial en la base de datos)\n",
        "except KeyError:\n",
        "    # Si 'Costo de envío' tampoco funciona, puedes probar con otros nombres comunes o referirte al output de tiendas_df.columns\n",
        "    # print(\"La columna 'Costo de envío' no fue encontrada. Por favor, verifica el nombre correcto de la columna en el output de tiendas_df.columns\")\n",
        "    # Por ahora, puedes intentar con 'costo de envío' si crees que podría ser ese el nombre\n",
        "    try:\n",
        "         promedio_costo_de_envío = tiendas_df['Costo de envío'].mean()\n",
        "    except KeyError:\n",
        "        print(\"No se encontró una columna de Costo de envío. Por favor, examine el output de tiendas_df.columns y actualice el código con el nombre correcto.\")\n",
        "        promedio_costo_de_envío = None # O manejar el error de otra forma\n",
        "\n",
        "if promedio_costo_de_envío is not None:\n",
        "    print(f\"El promedio de Costo de envío en las 4 tiendas es: {promedio_costo_de_envío}\")"
      ],
      "metadata": {
        "id": "S2JeaCykZNy9",
        "colab": {
          "base_uri": "https://localhost:8080/"
        },
        "outputId": "fbd7c74c-a119-4bc4-a6c2-22585f766431"
      },
      "execution_count": 6,
      "outputs": [
        {
          "output_type": "stream",
          "name": "stdout",
          "text": [
            "El promedio de Costo de envío en las 4 tiendas es: 24875.145733969264\n"
          ]
        }
      ]
    },
    {
      "cell_type": "code",
      "source": [
        "# prompt: Generar codigo para analizar los costo de envio total de las 4 tiendas\n",
        "############################################################### suma total\n",
        "# Calcular la facturación total por tienda\n",
        "total_costo_de_envío_tienda1 = tienda['Costo de envío' ].sum()\n",
        "total_costo_de_envío_tienda2 = tienda2['Costo de envío'].sum()\n",
        "total_costo_de_envío_tienda3 = tienda3['Costo de envío'].sum()\n",
        "total_costo_de_envío_tienda4 = tienda4['Costo de envío'].sum()\n",
        "\n",
        "# Calcular el costo de envio total de las 4 tiendas combinadas\n",
        "total_costo_de_envío_total_combinada = tiendas_df['Costo de envío'].sum()\n",
        "###################################################################### cuenta / cantidad total\n",
        "# Calcular cantidad total de envios por tienda\n",
        "total_envío_tienda1 = len(tienda['Costo de envío'])\n",
        "total_envío_tienda2 = len(tienda2['Costo de envío'])\n",
        "total_envío_tienda3 = len(tienda3['Costo de envío'])\n",
        "total_envío_tienda4 = len(tienda4['Costo de envío'])\n",
        "\n",
        "# Calcular cantidad total de envio total de las 4 tiendas combinadas\n",
        "total_envío_combinada = len(tiendas_df['Costo de envío'])\n",
        "\n",
        "####################################################### promedio\n",
        "\n",
        "# Calcular promedio total de envios por tienda\n",
        "promedio_costo_envío_tienda1 = total_costo_de_envío_tienda1 / total_envío_tienda1\n",
        "promedio_costo_envío_tienda2 = total_costo_de_envío_tienda2 / total_envío_tienda2\n",
        "promedio_costo_envío_tienda3 = total_costo_de_envío_tienda3 / total_envío_tienda3\n",
        "promedio_costo_envío_tienda4 = total_costo_de_envío_tienda4 / total_envío_tienda4\n",
        "\n",
        "# Calcular promedio total de costo de envio total de las 4 tiendas combinadas\n",
        "total_promedio_costo_envío_combinada = tiendas_df['Costo de envío'].mean()\n",
        "\n",
        "###################### impresiones.................................\n",
        "\n",
        "print(f\"\\nEl Costo Total de Envio para  Tienda 1: {total_costo_de_envío_tienda1} con una cantidad total de envios de {total_envío_tienda1} para un promedio total de {promedio_costo_envío_tienda1}\")\n",
        "print(f\"\\nEl Costo Total de Envio para  Tienda 2: {total_costo_de_envío_tienda2} con una cantidad total de envios de {total_envío_tienda2} para un promedio total de {promedio_costo_envío_tienda2}\")\n",
        "print(f\"\\nEl Costo Total de Envio para  Tienda 3: {total_costo_de_envío_tienda3} con una cantidad total de envios de {total_envío_tienda3} para un promedio total de {promedio_costo_envío_tienda3}\")\n",
        "print(f\"\\nEl Costo Total de Envio para  Tienda 4: {total_costo_de_envío_tienda4} con una cantidad total de envios de {total_envío_tienda4} para un promedio total de {promedio_costo_envío_tienda4}\")\n",
        "print(f\"\\nEl Costo Total de Envio para las 4 tiendas es: {total_costo_de_envío_total_combinada} con una cantidad total de envios de {total_envío_combinada} para un promedio total de {total_promedio_costo_envío_combinada}\")\n",
        "\n",
        "############################################### menor costo de envio y envios::::::::::\n",
        "\n",
        "# Crear un diccionario para costo de envio por tienda\n",
        "costo_de_envio_por_tienda = {\n",
        "    'Tienda 1': total_costo_de_envío_tienda1,\n",
        "    'Tienda 2': total_costo_de_envío_tienda2,\n",
        "    'Tienda 3': total_costo_de_envío_tienda3,\n",
        "    'Tienda 4': total_costo_de_envío_tienda4\n",
        "}\n",
        "\n",
        "# Crear un diccionario para cantidad de envio por tienda\n",
        "envio_por_tienda = {\n",
        "    'Tienda 1': total_envío_tienda1,\n",
        "    'Tienda 2': total_envío_tienda2,\n",
        "    'Tienda 3': total_envío_tienda3,\n",
        "    'Tienda 4': total_envío_tienda4\n",
        "}\n",
        "\n",
        "\n",
        "\n",
        "###################################### salto de linea .... analisis resumido....\n",
        "print(\"\\n\")\n",
        "\n",
        "#################### analisis de costos de envio::::::::::::::::::::::::::\n",
        "# Encontrar la tienda con el menor costo de envio\n",
        "tienda_menor_costo_de_envio = min(costo_de_envio_por_tienda, key=costo_de_envio_por_tienda.get)\n",
        "menor_costos_de_envio = costo_de_envio_por_tienda[tienda_menor_costo_de_envio]\n",
        "\n",
        "# Encontrar la tienda con el mayor costo de envio\n",
        "tienda_mayor_costo_de_envio1 = max(costo_de_envio_por_tienda, key=costo_de_envio_por_tienda.get)\n",
        "mayor_costos_de_envio1 = costo_de_envio_por_tienda[tienda_mayor_costo_de_envio1]\n",
        "\n",
        "#################### analisis de envios::::::::::::::::::::::::::\n",
        "# Encontrar la tienda con el menor cantidad  de envios\n",
        "tienda_menor_cantidad_de_envio = min(envio_por_tienda, key=envio_por_tienda.get)\n",
        "menor_cantidad_de_envio = envio_por_tienda[tienda_menor_cantidad_de_envio]\n",
        "\n",
        "# Encontrar la tienda con la mayor cantidad de envios\n",
        "tienda_mayor_cantidad_de_envio1 = max(envio_por_tienda, key=envio_por_tienda.get)\n",
        "mayor_cantidad_de_envio1 = envio_por_tienda[tienda_mayor_cantidad_de_envio1]\n",
        "\n",
        "print(f\"\\nLa tienda con la menor costo de envio total es: {tienda_menor_costo_de_envio} con un costo de envio de {menor_costos_de_envio}\")\n",
        "print(f\"\\nLa tienda con el mayor costo de envio total es: {tienda_mayor_costo_de_envio1} con un costo de envio de {mayor_costos_de_envio1}\")\n",
        "print(f\"\\n\")\n",
        "print(f\"\\nLa tienda con la menor envios total es: {tienda_menor_cantidad_de_envio} con un costo de envio de {menor_cantidad_de_envio}\")\n",
        "print(f\"\\nLa tienda con el mayor envios total es: {tienda_mayor_cantidad_de_envio1} con un costo de envio de {mayor_cantidad_de_envio1}\")\n"
      ],
      "metadata": {
        "id": "0tSdCie9ZQlt",
        "colab": {
          "base_uri": "https://localhost:8080/"
        },
        "outputId": "237dd40f-9564-48c5-a12d-d4b0b909650a"
      },
      "execution_count": 13,
      "outputs": [
        {
          "output_type": "stream",
          "name": "stdout",
          "text": [
            "\n",
            "El Costo Total de Envio para  Tienda 1: 61377900.0 con una cantidad total de envios de 2359 para un promedio total de 26018.60958033065\n",
            "\n",
            "El Costo Total de Envio para  Tienda 2: 59485100.0 con una cantidad total de envios de 2359 para un promedio total de 25216.235693090293\n",
            "\n",
            "El Costo Total de Envio para  Tienda 3: 58516600.0 con una cantidad total de envios de 2359 para un promedio total de 24805.680373039424\n",
            "\n",
            "El Costo Total de Envio para  Tienda 4: 55317400.0 con una cantidad total de envios de 2358 para un promedio total de 23459.457167090754\n",
            "\n",
            "El Costo Total de Envio para las 4 tiendas es: 234697000.0 con una cantidad total de envios de 9435 para un promedio total de 24875.145733969264\n",
            "\n",
            "\n",
            "\n",
            "La tienda con la menor costo de envio total es: Tienda 4 con un costo de envio de 55317400.0\n",
            "\n",
            "La tienda con el mayor costo de envio total es: Tienda 1 con un costo de envio de 61377900.0\n",
            "\n",
            "\n",
            "\n",
            "La tienda con la menor envios total es: Tienda 4 con un costo de envio de 2358\n",
            "\n",
            "La tienda con el mayor envios total es: Tienda 1 con un costo de envio de 2359\n"
          ]
        }
      ]
    }
  ]
}